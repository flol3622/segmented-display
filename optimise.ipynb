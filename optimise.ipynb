{
 "cells": [
  {
   "cell_type": "code",
   "execution_count": 1,
   "metadata": {
    "metadata": {}
   },
   "outputs": [],
   "source": [
    "import numpy as np\n",
    "import matplotlib.pyplot as plt"
   ]
  },
  {
   "cell_type": "code",
   "execution_count": 2,
   "metadata": {
    "metadata": {}
   },
   "outputs": [],
   "source": [
    "segm_13 = {\n",
    "    \"0\": \"1 10011 00 1101 1\",\n",
    "    \"1\": \"0 00011 00 0001 0\",\n",
    "    \"2\": \"1 00001 11 1000 1\",\n",
    "    \"3\": \"1 00001 01 0001 1\",\n",
    "    \"4\": \"0 10001 11 0001 0\",\n",
    "    \"5\": \"1 10000 10 0010 1\",\n",
    "    \"6\": \"1 10000 11 1001 1\",\n",
    "    \"7\": \"1 00001 00 0001 0\",\n",
    "    \"8\": \"1 10001 11 1001 1\",\n",
    "    \"9\": \"1 10001 11 0001 1\",\n",
    "    \"A\": \"1 10001 11 1001 0\",\n",
    "    \"B\": \"1 00101 01 0001 1\",\n",
    "    \"C\": \"1 10000 00 1000 1\",\n",
    "    \"D\": \"1 00101 00 0001 1\",\n",
    "    \"E\": \"1 10000 10 1000 1\",\n",
    "    \"F\": \"1 10000 11 1000 0\",\n",
    "    \"G\": \"1 10000 01 1001 1\",\n",
    "    \"H\": \"0 10001 11 1001 0\",\n",
    "    \"I\": \"1 00100 00 0000 1\",\n",
    "    \"J\": \"0 00001 00 1001 1\",\n",
    "    \"K\": \"0 10010 10 1010 0\",\n",
    "    \"L\": \"0 10000 00 1000 1\",\n",
    "    \"M\": \"0 11011 00 1001 0\",\n",
    "    \"N\": \"0 11001 00 1010 0\",\n",
    "    \"O\": \"1 10001 00 1001 1\",\n",
    "    \"P\": \"1 10001 11 1000 0\",\n",
    "    \"Q\": \"1 10001 00 1011 1\",\n",
    "    \"R\": \"1 10001 11 1010 0\",\n",
    "    \"S\": \"1 10000 10 0001 1\",\n",
    "    \"T\": \"1 00100 00 0000 0\",\n",
    "    \"U\": \"0 10001 00 1001 1\",\n",
    "    \"V\": \"0 10010 00 1100 0\",\n",
    "    \"W\": \"0 10001 00 1111 0\",\n",
    "    \"X\": \"0 01010 00 0110 0\",\n",
    "    \"Y\": \"0 10001 11 0001 1\",\n",
    "    \"Z\": \"1 00010 00 0100 1\",\n",
    "    \" \": \"0 00000 00 0000 0\",\n",
    "}\n",
    "\n",
    "data_matrix = np.array(\n",
    "    [[int(bit) for bit in code.replace(\" \", \"\")] for code in segm_13.values()]\n",
    ")"
   ]
  },
  {
   "cell_type": "code",
   "execution_count": null,
   "metadata": {},
   "outputs": [],
   "source": [
    "def changes(data):\n",
    "    changes = 0\n",
    "    for i in range(len(data) - 1):\n",
    "        if data[i] != data[i + 1]:\n",
    "            changes += 1\n",
    "    return changes\n",
    "\n",
    "\n",
    "fig, axs = plt.subplots(4, 4, figsize=(20, 12))\n",
    "axs = axs.ravel()\n",
    "for i, segm in enumerate(data_matrix.T):\n",
    "    axs[i].plot(segm)\n",
    "    axs[i].set_title(f\"Segment {i+1}, Changes: {changes(segm)}\")\n",
    "    axs[i].set_xlabel(\"Character\")\n",
    "    axs[i].set_ylabel(\"State\")\n",
    "\n",
    "# add space between subplots vertically\n",
    "plt.tight_layout()\n",
    "plt.show()"
   ]
  }
 ],
 "metadata": {
  "kernelspec": {
   "display_name": ".venv",
   "language": "python",
   "name": "python3"
  },
  "language_info": {
   "codemirror_mode": {
    "name": "ipython",
    "version": 3
   },
   "file_extension": ".py",
   "mimetype": "text/x-python",
   "name": "python",
   "nbconvert_exporter": "python",
   "pygments_lexer": "ipython3",
   "version": "3.12.1"
  }
 },
 "nbformat": 4,
 "nbformat_minor": 2
}
